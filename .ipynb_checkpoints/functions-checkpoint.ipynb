{
 "cells": [
  {
   "cell_type": "code",
   "execution_count": 38,
   "metadata": {
    "scrolled": true
   },
   "outputs": [],
   "source": [
    "def create_choice_item(user_input,type_asked,choices_dict):\n",
    "    if user_input.lower() == \"yes\":\n",
    "        choices_dict[type_asked]=True\n",
    "    else:\n",
    "        choices_dict[type_asked]=False\n",
    "\n",
    "def refine_choice():\n",
    "    \n",
    "    choices = dict()\n",
    "    \n",
    "    check=False\n",
    "    \n",
    "    while check == False:    \n",
    "        uppercase = input(\"Would you like to use uppercase letters (ABC...)? Type yes or no\")\n",
    "        if uppercase.lower() != \"yes\" and uppercase.lower() != \"no\":\n",
    "            print(\"Please use only two words, 'yes' or 'no'. Numbers and\\or other words not accepted.\")\n",
    "        else:\n",
    "            create_choice_item(uppercase,\"Uppercase\",choices)\n",
    "            check = True\n",
    "            \n",
    "    \n",
    "    check=False\n",
    "    \n",
    "    while check == False:\n",
    "        lowercase = input(\"Now, would you like to use lowercase letters (abc...)? Type yes or no\")\n",
    "        if lowercase.lower() != \"yes\" and lowercase.lower() != \"no\":\n",
    "            print(\"Please use only two words, 'yes' or 'no'. Numbers and\\or other words not accepted.\")\n",
    "        else:\n",
    "            create_choice_item(lowercase,\"Lowercase\",choices)\n",
    "            check = True\n",
    "            \n",
    "    \n",
    "    check=False\n",
    "    \n",
    "    while check == False:\n",
    "        numbers = input(\"Now, would you like to use numbers (123...)? Type yes or no\")\n",
    "        if numbers.lower() != \"yes\" and numbers.lower() != \"no\":\n",
    "            print(\"Please use only two words, 'yes' or 'no'. Numbers and\\or other words not accepted.\")\n",
    "        else:\n",
    "            create_choice_item(numbers,\"Numbers\",choices)\n",
    "            check = True\n",
    "    \n",
    "    \n",
    "    check = False\n",
    "    \n",
    "    while check == False:\n",
    "        symbols = input(\"Now, would you like to use special symbols (!$#...)? Type yes or no\")\n",
    "        if symbols.lower() != \"yes\" and symbols.lower() != \"no\":\n",
    "            print(\"Please use only two words, 'yes' or 'no'. Numbers and\\or other words not accepted.\")\n",
    "        else:\n",
    "            create_choice_item(symbols,\"Symbols\",choices)\n",
    "            check = True\n",
    "    \n",
    "    return choices "
   ]
  },
  {
   "cell_type": "code",
   "execution_count": 39,
   "metadata": {},
   "outputs": [
    {
     "name": "stdout",
     "output_type": "stream",
     "text": [
      "Would you like to use uppercase letters (ABC...)? Type yes or no2\n",
      "Please use only two words, 'yes' or 'no'. Numbers and\\or other words not accepted.\n",
      "Would you like to use uppercase letters (ABC...)? Type yes or nodsad\n",
      "Please use only two words, 'yes' or 'no'. Numbers and\\or other words not accepted.\n",
      "Would you like to use uppercase letters (ABC...)? Type yes or noyes\n",
      "Now, would you like to use lowercase letters (abc...)? Type yes or noads\n",
      "Please use only two words, 'yes' or 'no'. Numbers and\\or other words not accepted.\n",
      "Now, would you like to use lowercase letters (abc...)? Type yes or nodasd\n",
      "Please use only two words, 'yes' or 'no'. Numbers and\\or other words not accepted.\n",
      "Now, would you like to use lowercase letters (abc...)? Type yes or nono\n",
      "Now, would you like to use numbers (123...)? Type yes or no123\n",
      "Please use only two words, 'yes' or 'no'. Numbers and\\or other words not accepted.\n",
      "Now, would you like to use numbers (123...)? Type yes or noyes\n",
      "Now, would you like to use special symbols (!$#...)? Type yes or noyes\n"
     ]
    },
    {
     "data": {
      "text/plain": [
       "{'Uppercase': True, 'Lowercase': False, 'Numbers': True, 'Symbols': True}"
      ]
     },
     "execution_count": 39,
     "metadata": {},
     "output_type": "execute_result"
    }
   ],
   "source": [
    "refine_choice()"
   ]
  },
  {
   "cell_type": "code",
   "execution_count": 98,
   "metadata": {},
   "outputs": [],
   "source": [
    "def generate_password(characters_range, password_length):\n",
    "    \n",
    "    import random\n",
    "    \n",
    "    characters_range=['a', 'b', 'c', 'd', 'e', 'f', 'g', 'h', 'i', 'j', 'k', 'l', 'm', 'n', 'o', 'p', 'q', 'r', 's', 't', 'u', 'v', 'w', 'x', 'y', 'z', 'A', 'B', 'C', 'D', 'E', 'F', 'G', 'H', 'I', 'J', 'K', 'L', 'M', 'N', 'O', 'P', 'Q', 'R', 'S', 'T', 'U', 'V', 'W', 'X', 'Y', 'Z', '0', '1', '2', '3', '4', '5', '6', '7', '8', '9']\n",
    "    \n",
    "    final_password = \"\".join(random.choices(characters_range, k=password_length))\n",
    "    print(final_password)"
   ]
  },
  {
   "cell_type": "code",
   "execution_count": null,
   "metadata": {},
   "outputs": [],
   "source": [
    "\"\"\"def check_password(final_password):\n",
    "    \n",
    "    for i in final_password:\n",
    "        \n",
    "check1 = \"1234567890-=\"\n",
    "check2 = \"qwertyuiop[]\"\n",
    "check3 = \"asdfghjkl;'\\'\"\n",
    "check4 = \"zxcvbnm,./\"\n",
    "\"\"\""
   ]
  },
  {
   "cell_type": "code",
   "execution_count": 103,
   "metadata": {},
   "outputs": [
    {
     "name": "stdout",
     "output_type": "stream",
     "text": [
      "Ta3332O9Co\n"
     ]
    }
   ],
   "source": [
    "generate_password(['a', 'b', 'c', 'd', 'e', 'f', 'g', 'h', 'i', 'j', 'k', 'l', 'm', 'n', 'o', 'p', 'q', 'r', 's', 't', 'u', 'v', 'w', 'x', 'y', 'z', 'A', 'B', 'C', 'D', 'E', 'F', 'G', 'H', 'I', 'J', 'K', 'L', 'M', 'N', 'O', 'P', 'Q', 'R', 'S', 'T', 'U', 'V', 'W', 'X', 'Y', 'Z', '0', '1', '2', '3', '4', '5', '6', '7', '8', '9'], 10)"
   "execution_count": 1,
   "metadata": {},
   "outputs": [],
   "source": [
    "def get_password_length():\n",
    "    \n",
    "    \"\"\"Function asking the user to input the desired password length.\"\"\"\n",
    "    \n",
    "    check = False\n",
    "    while check == False:\n",
    "        password_length = input(\"Please enter the desired password length (from 1 to 20):\")\n",
    "        try:\n",
    "            password_length = int(password_length)\n",
    "        except:\n",
    "            print(\"Your input should be an integer.\\n\")\n",
    "            continue\n",
    "        if password_length<=0 or password_length>20:\n",
    "            print(\"Your input should be an integer between 1 and 20 (included).\\n\") \n",
    "            continue\n",
    "        check = True        \n",
    "    return password_length\n",
    "\n",
    "def get_security_level(password_length,user_choices):\n",
    "    \n",
    "    \"\"\"Function calculating the security level (WEAK, AVERAGE or STRONG)\n",
    "    from the password length and selected character types.\"\"\"\n",
    "    \n",
    "    total_score = password_length*sum(list(user_choices.values()))\n",
    "    if total_score < 30:\n",
    "        security_level = \"WEAK\"\n",
    "    elif total_score < 40:\n",
    "        security_level = \"AVERAGE\"\n",
    "    else:\n",
    "        security_level = \"STRONG\"\n",
    "    return security_level\n",
    "\n",
    "def set_characters_range(user_choices):\n",
    "    \n",
    "    \"\"\"Function returning a list of candidate characters\n",
    "    for the generate_password function.\"\"\"\n",
    "    \n",
    "    import string\n",
    "    characters_dict =\\\n",
    "        {\"Lowercase\" :[letter for letter in string.ascii_lowercase],\\\n",
    "         \"Uppercase\" :[letter for letter in string.ascii_uppercase],\\\n",
    "         \"Numbers\":[digit for digit in string.digits],\\\n",
    "         \"Symbols\":[punctuation for punctuation in string.punctuation]}\n",
    "    characters_range = list()\n",
    "    for key in characters_dict:\n",
    "        if user_choices[key]==True:\n",
    "            characters_range+=characters_dict[key]\n",
    "    return characters_range"
   ]
  }
 ],
 "metadata": {
  "kernelspec": {
   "display_name": "Python 3",
   "language": "python",
   "name": "python3"
  },
  "language_info": {
   "codemirror_mode": {
    "name": "ipython",
    "version": 3
   },
   "file_extension": ".py",
   "mimetype": "text/x-python",
   "name": "python",
   "nbconvert_exporter": "python",
   "pygments_lexer": "ipython3",
   "version": "3.7.4"
  }
 },
 "nbformat": 4,
 "nbformat_minor": 2
}

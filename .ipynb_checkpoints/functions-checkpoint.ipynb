{
 "cells": [
  {
   "cell_type": "code",
   "execution_count": 1,
   "metadata": {},
   "outputs": [],
   "source": [
    "def get_password_length():\n",
    "    \n",
    "    \"\"\"Function asking the user to input the desired password length.\"\"\"\n",
    "    \n",
    "    check = False\n",
    "    while check == False:\n",
    "        password_length = input(\"Please enter the desired password length (from 1 to 20):\")\n",
    "        try:\n",
    "            password_length = int(password_length)\n",
    "        except:\n",
    "            print(\"Your input should be an integer.\\n\")\n",
    "            continue\n",
    "        if password_length<=0 or password_length>20:\n",
    "            print(\"Your input should be an integer between 1 and 20 (included).\\n\") \n",
    "            continue\n",
    "        check = True        \n",
    "    return password_length\n",
    "\n",
    "def get_security_level(password_length,user_choices):\n",
    "    \n",
    "    \"\"\"Function calculating the security level (WEAK, AVERAGE or STRONG)\n",
    "    from the password length and selected character types.\"\"\"\n",
    "    \n",
    "    total_score = password_length*sum(list(user_choices.values()))\n",
    "    if total_score < 30:\n",
    "        security_level = \"WEAK\"\n",
    "    elif total_score < 40:\n",
    "        security_level = \"AVERAGE\"\n",
    "    else:\n",
    "        security_level = \"STRONG\"\n",
    "    return security_level\n",
    "\n",
    "def set_characters_range(user_choices):\n",
    "    \n",
    "    \"\"\"Function returning a list of candidate characters\n",
    "    for the generate_password function.\"\"\"\n",
    "    \n",
    "    import string\n",
    "    characters_dict =\\\n",
    "        {\"Lowercase\" :[letter for letter in string.ascii_lowercase],\\\n",
    "         \"Uppercase\" :[letter for letter in string.ascii_uppercase],\\\n",
    "         \"Numbers\":[digit for digit in string.digits],\\\n",
    "         \"Symbols\":[punctuation for punctuation in string.punctuation]}\n",
    "    characters_range = list()\n",
    "    for key in characters_dict:\n",
    "        if user_choices[key]==True:\n",
    "            characters_range+=characters_dict[key]\n",
    "    return characters_range"
   ]
  }
 ],
 "metadata": {
  "kernelspec": {
   "display_name": "Python 3",
   "language": "python",
   "name": "python3"
  },
  "language_info": {
   "codemirror_mode": {
    "name": "ipython",
    "version": 3
   },
   "file_extension": ".py",
   "mimetype": "text/x-python",
   "name": "python",
   "nbconvert_exporter": "python",
   "pygments_lexer": "ipython3",
   "version": "3.7.4"
  }
 },
 "nbformat": 4,
 "nbformat_minor": 2
}

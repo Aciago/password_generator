{
 "cells": [
  {
   "cell_type": "code",
   "execution_count": 38,
   "metadata": {
    "scrolled": true
   },
   "outputs": [],
   "source": [
    "def create_choice_item(user_input,type_asked,choices_dict):\n",
    "    if user_input.lower() == \"yes\":\n",
    "        choices_dict[type_asked]=True\n",
    "    else:\n",
    "        choices_dict[type_asked]=False\n",
    "\n",
    "def refine_choice():\n",
    "    \n",
    "    choices = dict()\n",
    "    \n",
    "    check=False\n",
    "    \n",
    "    while check == False:    \n",
    "        uppercase = input(\"Would you like to use uppercase letters (ABC...)? Type yes or no\")\n",
    "        if uppercase.lower() != \"yes\" and uppercase.lower() != \"no\":\n",
    "            print(\"Please use only two words, 'yes' or 'no'. Numbers and\\or other words not accepted.\")\n",
    "        else:\n",
    "            create_choice_item(uppercase,\"Uppercase\",choices)\n",
    "            check = True\n",
    "            \n",
    "    \n",
    "    check=False\n",
    "    \n",
    "    while check == False:\n",
    "        lowercase = input(\"Now, would you like to use lowercase letters (abc...)? Type yes or no\")\n",
    "        if lowercase.lower() != \"yes\" and lowercase.lower() != \"no\":\n",
    "            print(\"Please use only two words, 'yes' or 'no'. Numbers and\\or other words not accepted.\")\n",
    "        else:\n",
    "            create_choice_item(lowercase,\"Lowercase\",choices)\n",
    "            check = True\n",
    "            \n",
    "    \n",
    "    check=False\n",
    "    \n",
    "    while check == False:\n",
    "        numbers = input(\"Now, would you like to use numbers (123...)? Type yes or no\")\n",
    "        if numbers.lower() != \"yes\" and numbers.lower() != \"no\":\n",
    "            print(\"Please use only two words, 'yes' or 'no'. Numbers and\\or other words not accepted.\")\n",
    "        else:\n",
    "            create_choice_item(numbers,\"Numbers\",choices)\n",
    "            check = True\n",
    "    \n",
    "    \n",
    "    check = False\n",
    "    \n",
    "    while check == False:\n",
    "        symbols = input(\"Now, would you like to use special symbols (!$#...)? Type yes or no\")\n",
    "        if symbols.lower() != \"yes\" and symbols.lower() != \"no\":\n",
    "            print(\"Please use only two words, 'yes' or 'no'. Numbers and\\or other words not accepted.\")\n",
    "        else:\n",
    "            create_choice_item(symbols,\"Symbols\",choices)\n",
    "            check = True\n",
    "    \n",
    "    return choices "
   ]
  },
  {
   "cell_type": "code",
   "execution_count": 39,
   "metadata": {},
   "outputs": [
    {
     "name": "stdout",
     "output_type": "stream",
     "text": [
      "Would you like to use uppercase letters (ABC...)? Type yes or no2\n",
      "Please use only two words, 'yes' or 'no'. Numbers and\\or other words not accepted.\n",
      "Would you like to use uppercase letters (ABC...)? Type yes or nodsad\n",
      "Please use only two words, 'yes' or 'no'. Numbers and\\or other words not accepted.\n",
      "Would you like to use uppercase letters (ABC...)? Type yes or noyes\n",
      "Now, would you like to use lowercase letters (abc...)? Type yes or noads\n",
      "Please use only two words, 'yes' or 'no'. Numbers and\\or other words not accepted.\n",
      "Now, would you like to use lowercase letters (abc...)? Type yes or nodasd\n",
      "Please use only two words, 'yes' or 'no'. Numbers and\\or other words not accepted.\n",
      "Now, would you like to use lowercase letters (abc...)? Type yes or nono\n",
      "Now, would you like to use numbers (123...)? Type yes or no123\n",
      "Please use only two words, 'yes' or 'no'. Numbers and\\or other words not accepted.\n",
      "Now, would you like to use numbers (123...)? Type yes or noyes\n",
      "Now, would you like to use special symbols (!$#...)? Type yes or noyes\n"
     ]
    },
    {
     "data": {
      "text/plain": [
       "{'Uppercase': True, 'Lowercase': False, 'Numbers': True, 'Symbols': True}"
      ]
     },
     "execution_count": 39,
     "metadata": {},
     "output_type": "execute_result"
    }
   ],
   "source": [
    "refine_choice()"
   ]
  },
  {
   "cell_type": "code",
   "execution_count": 98,
   "metadata": {},
   "outputs": [],
   "source": [
    "def generate_password(characters_range, password_length):\n",
    "    \n",
    "    import random\n",
    "    \n",
    "    characters_range=['a', 'b', 'c', 'd', 'e', 'f', 'g', 'h', 'i', 'j', 'k', 'l', 'm', 'n', 'o', 'p', 'q', 'r', 's', 't', 'u', 'v', 'w', 'x', 'y', 'z', 'A', 'B', 'C', 'D', 'E', 'F', 'G', 'H', 'I', 'J', 'K', 'L', 'M', 'N', 'O', 'P', 'Q', 'R', 'S', 'T', 'U', 'V', 'W', 'X', 'Y', 'Z', '0', '1', '2', '3', '4', '5', '6', '7', '8', '9']\n",
    "    \n",
    "    final_password = \"\".join(random.choices(characters_range, k=password_length))\n",
    "    print(final_password)"
   ]
  },
  {
   "cell_type": "code",
   "execution_count": null,
   "metadata": {},
   "outputs": [],
   "source": [
    "\"\"\"def check_password(final_password):\n",
    "    \n",
    "    for i in final_password:\n",
    "        \n",
    "check1 = \"1234567890-=\"\n",
    "check2 = \"qwertyuiop[]\"\n",
    "check3 = \"asdfghjkl;'\\'\"\n",
    "check4 = \"zxcvbnm,./\"\n",
    "\"\"\""
   ]
  },
  {
   "cell_type": "code",
   "execution_count": 103,
   "metadata": {},
   "outputs": [
    {
     "name": "stdout",
     "output_type": "stream",
     "text": [
      "Ta3332O9Co\n"
     ]
    }
   ],
   "source": [
    "generate_password(['a', 'b', 'c', 'd', 'e', 'f', 'g', 'h', 'i', 'j', 'k', 'l', 'm', 'n', 'o', 'p', 'q', 'r', 's', 't', 'u', 'v', 'w', 'x', 'y', 'z', 'A', 'B', 'C', 'D', 'E', 'F', 'G', 'H', 'I', 'J', 'K', 'L', 'M', 'N', 'O', 'P', 'Q', 'R', 'S', 'T', 'U', 'V', 'W', 'X', 'Y', 'Z', '0', '1', '2', '3', '4', '5', '6', '7', '8', '9'], 10)"
   ]
  }
 ],
 "metadata": {
  "kernelspec": {
   "display_name": "Python 3",
   "language": "python",
   "name": "python3"
  },
  "language_info": {
   "codemirror_mode": {
    "name": "ipython",
    "version": 3
   },
   "file_extension": ".py",
   "mimetype": "text/x-python",
   "name": "python",
   "nbconvert_exporter": "python",
   "pygments_lexer": "ipython3",
   "version": "3.7.4"
  }
 },
 "nbformat": 4,
 "nbformat_minor": 2
}
